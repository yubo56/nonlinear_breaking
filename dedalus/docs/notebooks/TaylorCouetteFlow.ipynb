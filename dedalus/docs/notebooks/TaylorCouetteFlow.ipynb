{
 "cells": [
  {
   "cell_type": "markdown",
   "metadata": {},
   "source": [
    "# Axisymmetric Taylor-Couette flow in Dedalus\n",
    "\n",
    "\n",
    "![Taylor Couette Flow](http://upload.wikimedia.org/wikipedia/commons/3/3d/CouetteTaylorSystem.svg \"Taylor Couette Flow\")\n",
    "(image: wikipedia)\n",
    "\n",
    "Taylor-Couette flow is characterized by three dimensionless numbers:\n",
    "\n",
    "$\\eta = R1/R2$, the ratio of the inner cylidner radius $R_1$ to the outer cylinder radius $R_2$\n",
    "\n",
    "$\\mu = \\Omega_2/\\Omega_1$, the ratio of the OUTER cylinder rotation rate $\\Omega_2$ to the inner rate $\\Omega_1$\n",
    "\n",
    "$\\mathrm{Re} = \\Omega_1 R_1 \\delta/\\nu$, the Reynolds numbers, where $\\delta = R_2 - R_1$, the gap width between the cylinders\n",
    "\n",
    "\n",
    "We non dimensionalize the flow in terms of \n",
    "\n",
    "$[\\mathrm{L}] = \\delta = R_2 - R_1$ \n",
    "\n",
    "$[\\mathrm{V}] = R_1 \\Omega_1$ \n",
    "\n",
    "$[\\mathrm{M}] = \\rho \\delta^3$\n",
    "\n",
    "And choose $\\delta = 1$, $R_1 \\Omega_1 = 1$, and $\\rho = 1$."
   ]
  },
  {
   "cell_type": "code",
   "execution_count": 1,
   "metadata": {
    "collapsed": false
   },
   "outputs": [
    {
     "name": "stdout",
     "output_type": "stream",
     "text": [
      "Populating the interactive namespace from numpy and matplotlib\n"
     ]
    }
   ],
   "source": [
    "%pylab inline"
   ]
  },
  {
   "cell_type": "code",
   "execution_count": 2,
   "metadata": {
    "collapsed": false
   },
   "outputs": [],
   "source": [
    "import numpy as np\n",
    "import time\n",
    "import h5py\n",
    "\n",
    "import dedalus.public as de \n",
    "from dedalus.extras import flow_tools"
   ]
  },
  {
   "cell_type": "markdown",
   "metadata": {},
   "source": [
    "Here, we set logging to `INFO` level. Currently, by default, the parsing in Dedalus sets its logging output to `DEBUG` in notebooks, which produces more info than we need here."
   ]
  },
  {
   "cell_type": "code",
   "execution_count": 3,
   "metadata": {
    "collapsed": false
   },
   "outputs": [],
   "source": [
    "import logging\n",
    "root = logging.root\n",
    "for h in root.handlers:\n",
    "    h.setLevel(\"INFO\")\n",
    "    \n",
    "logger = logging.getLogger(__name__)"
   ]
  },
  {
   "cell_type": "markdown",
   "metadata": {},
   "source": [
    "## Input parameters\n",
    "\n",
    "These parameters are taken from Barenghi (1991) J. Comp. Phys. After running, we'll compare it compute the growth rate and compare it to the value $\\gamma_{analytic} = 0.430108693$"
   ]
  },
  {
   "cell_type": "code",
   "execution_count": 4,
   "metadata": {
    "collapsed": false
   },
   "outputs": [],
   "source": [
    "# input parameters from Barenghi (1991)\n",
    "eta = 1./1.444 # R1/R2\n",
    "alpha = 3.13   # vertical wavenumber\n",
    "Re = 80.       # in units of R1*Omega1*delta/nu\n",
    "mu = 0.        # Omega2/Omega1\n",
    "\n",
    "# computed quantitites\n",
    "omega_in = 1.\n",
    "omega_out = mu * omega_in\n",
    "r_in = eta/(1. - eta)\n",
    "r_out = 1./(1. - eta)\n",
    "height = 2.*np.pi/alpha \n",
    "v_l = 1. # by default, we set v_l to 1.\n",
    "v_r = omega_out*r_out"
   ]
  },
  {
   "cell_type": "markdown",
   "metadata": {},
   "source": [
    "## Problem Domain\n",
    "Every PDE takes place somewhere, so we define a *domain*, which in this case is the $z$ and $r$ directions. Because the $r$ direction has walls, we use a `Chebyshev` basis, but the $z$ direction is periodic, so we use a `Fourier` basis. The `Domain` object combines these."
   ]
  },
  {
   "cell_type": "code",
   "execution_count": 5,
   "metadata": {
    "collapsed": false
   },
   "outputs": [],
   "source": [
    "# bases\n",
    "r_basis = de.Chebyshev('r', 32, interval=(r_in, r_out), dealias=3/2)\n",
    "z_basis = de.Fourier('z', 32, interval=(0., height), dealias=3/2)\n",
    "domain = de.Domain([z_basis, r_basis], grid_dtype=np.float64)"
   ]
  },
  {
   "cell_type": "markdown",
   "metadata": {},
   "source": [
    "## Equations\n",
    "\n",
    "We use the `IVP` object, which can parse a set of equations in plain text and combine them into an initial value problem.\n",
    "\n",
    "Here, we code up the equations for the \"primative\" variables, $\\mathbf{v} = u \\mathbf{\\hat{r}} + v \\mathbf{\\hat{\\theta}} + w \\mathbf{\\hat{z}}$ and $p$, along with their first derivatives. \n",
    "\n",
    "The equations are the incompressible, axisymmetric Navier-Stokes equations in cylindrical coordinates\n",
    "\n",
    "The axes will be called $z$ and $r$, and we will expand the non-constant $r^2$ terms, to a cutoff precision of $10^{-8}$. These non-constant coefficients (called \"NCC\" in Dedalus) are geometric here, but they could be background states in convection, or position dependent diffusion coefficients, or whatever.\n",
    "\n",
    "We also add the parameters to the object, so we can use their names in the equations below."
   ]
  },
  {
   "cell_type": "code",
   "execution_count": 6,
   "metadata": {
    "collapsed": false
   },
   "outputs": [],
   "source": [
    "TC = de.IVP(domain, \n",
    "            variables=['p', 'u', 'v', 'w', 'ur', 'vr', 'wr'],ncc_cutoff=1e-8)\n",
    "TC.parameters['nu'] = 1./Re\n",
    "TC.parameters['v_l'] = v_l\n",
    "TC.parameters['v_r'] = v_r\n",
    "mu = TC.parameters['v_r']/TC.parameters['v_l'] * eta"
   ]
  },
  {
   "cell_type": "markdown",
   "metadata": {},
   "source": [
    "The equations are multiplied through by $r^2$, so that there are no $1/r$ terms, which require more coefficients in the expansion"
   ]
  },
  {
   "cell_type": "code",
   "execution_count": 7,
   "metadata": {
    "collapsed": false
   },
   "outputs": [],
   "source": [
    "TC.add_equation(\"r*ur + u + r*dz(w) = 0\")\n",
    "TC.add_equation(\"r*r*dt(u) - r*r*nu*dr(ur) - r*nu*ur - r*r*nu*dz(dz(u)) + nu*u + r*r*dr(p) = -r*r*u*ur - r*r*w*dz(u) + r*v*v\")\n",
    "TC.add_equation(\"r*r*dt(v) - r*r*nu*dr(vr) - r*nu*vr - r*r*nu*dz(dz(v)) + nu*v  = -r*r*u*vr - r*r*w*dz(v) - r*u*v\")\n",
    "TC.add_equation(\"r*dt(w) - r*nu*dr(wr) - nu*wr - r*nu*dz(dz(w)) + r*dz(p) = -r*u*wr - r*w*dz(w)\")\n",
    "TC.add_equation(\"ur - dr(u) = 0\")\n",
    "TC.add_equation(\"vr - dr(v) = 0\")\n",
    "TC.add_equation(\"wr - dr(w) = 0\")"
   ]
  },
  {
   "cell_type": "markdown",
   "metadata": {},
   "source": [
    "## Initial and Boundary Conditions\n",
    "\n",
    "First we create some aliases to the $r$ and $z$ grids, so we can quickly compute the analytic Couette flow solution for unperturbed, unstable axisymmetric flow."
   ]
  },
  {
   "cell_type": "code",
   "execution_count": 8,
   "metadata": {
    "collapsed": false
   },
   "outputs": [],
   "source": [
    "r = domain.grid(1, scales=domain.dealias)\n",
    "z = domain.grid(0, scales=domain.dealias)\n",
    " \n",
    "p_analytic = (eta/(1-eta**2))**2 * (-1./(2*r**2*(1-eta)**2) -2*np.log(r) +0.5*r**2 * (1.-eta)**2)\n",
    "v_analytic = eta/(1-eta**2) * ((1. - mu)/(r*(1-eta)) - r * (1.-eta) * (1 - mu/eta**2)) "
   ]
  },
  {
   "cell_type": "markdown",
   "metadata": {},
   "source": [
    "And now we add boundary conditions, simply by typing them in plain text, just like the equations."
   ]
  },
  {
   "cell_type": "code",
   "execution_count": 9,
   "metadata": {
    "collapsed": false
   },
   "outputs": [],
   "source": [
    "# boundary conditions\n",
    "TC.add_bc(\"left(u) = 0\")\n",
    "TC.add_bc(\"left(v) = v_l\")\n",
    "TC.add_bc(\"left(w) = 0\")\n",
    "TC.add_bc(\"right(u) = 0\", condition=\"nz != 0\")\n",
    "TC.add_bc(\"right(v) = v_r\")\n",
    "TC.add_bc(\"right(w) = 0\")\n",
    "TC.add_bc(\"integ(p,'r') = 0\", condition=\"nz == 0\")"
   ]
  },
  {
   "cell_type": "markdown",
   "metadata": {},
   "source": [
    "We can now set the parameters of the problem, $\\nu$, $v_l$, and $v_r$, and have the code log $\\mu$ to the output (which can be `stdout`, a file, or both)."
   ]
  },
  {
   "cell_type": "markdown",
   "metadata": {},
   "source": [
    "## Timestepping\n",
    "\n",
    "Dedalus comes with a lot of timesteppers, and makes it very easy to add your favorite one. Here we pick `RK443`, an IMEX Runga-Kutta scheme. We set our maximum timestep `max_dt`, and choose the various stopping parameters.\n",
    "\n",
    "Finally, we've got our full initial value problem (represented by the `IVP`) object: a timestepper, a domain, and a `ParsedProblem` (or equation set)"
   ]
  },
  {
   "cell_type": "code",
   "execution_count": 10,
   "metadata": {
    "collapsed": false
   },
   "outputs": [
    {
     "name": "stderr",
     "output_type": "stream",
     "text": [
      "INFO:pencil:Building pencil matrix 1/16 (~6%) Elapsed: 0s, Remaining: 0s, Rate: 3.7e+01/s\n"
     ]
    },
    {
     "name": "stdout",
     "output_type": "stream",
     "text": [
      "2016-05-02 12:16:44,321 pencil 0/1 INFO :: Building pencil matrix 1/16 (~6%) Elapsed: 0s, Remaining: 0s, Rate: 3.7e+01/s\n"
     ]
    },
    {
     "name": "stderr",
     "output_type": "stream",
     "text": [
      "INFO:pencil:Building pencil matrix 2/16 (~12%) Elapsed: 0s, Remaining: 0s, Rate: 3.6e+01/s\n"
     ]
    },
    {
     "name": "stdout",
     "output_type": "stream",
     "text": [
      "2016-05-02 12:16:44,349 pencil 0/1 INFO :: Building pencil matrix 2/16 (~12%) Elapsed: 0s, Remaining: 0s, Rate: 3.6e+01/s\n"
     ]
    },
    {
     "name": "stderr",
     "output_type": "stream",
     "text": [
      "INFO:pencil:Building pencil matrix 4/16 (~25%) Elapsed: 0s, Remaining: 0s, Rate: 3.6e+01/s\n"
     ]
    },
    {
     "name": "stdout",
     "output_type": "stream",
     "text": [
      "2016-05-02 12:16:44,404 pencil 0/1 INFO :: Building pencil matrix 4/16 (~25%) Elapsed: 0s, Remaining: 0s, Rate: 3.6e+01/s\n"
     ]
    },
    {
     "name": "stderr",
     "output_type": "stream",
     "text": [
      "INFO:pencil:Building pencil matrix 6/16 (~38%) Elapsed: 0s, Remaining: 0s, Rate: 3.7e+01/s\n"
     ]
    },
    {
     "name": "stdout",
     "output_type": "stream",
     "text": [
      "2016-05-02 12:16:44,457 pencil 0/1 INFO :: Building pencil matrix 6/16 (~38%) Elapsed: 0s, Remaining: 0s, Rate: 3.7e+01/s\n"
     ]
    },
    {
     "name": "stderr",
     "output_type": "stream",
     "text": [
      "INFO:pencil:Building pencil matrix 8/16 (~50%) Elapsed: 0s, Remaining: 0s, Rate: 3.6e+01/s\n"
     ]
    },
    {
     "name": "stdout",
     "output_type": "stream",
     "text": [
      "2016-05-02 12:16:44,516 pencil 0/1 INFO :: Building pencil matrix 8/16 (~50%) Elapsed: 0s, Remaining: 0s, Rate: 3.6e+01/s\n"
     ]
    },
    {
     "name": "stderr",
     "output_type": "stream",
     "text": [
      "INFO:pencil:Building pencil matrix 10/16 (~62%) Elapsed: 0s, Remaining: 0s, Rate: 3.6e+01/s\n"
     ]
    },
    {
     "name": "stdout",
     "output_type": "stream",
     "text": [
      "2016-05-02 12:16:44,570 pencil 0/1 INFO :: Building pencil matrix 10/16 (~62%) Elapsed: 0s, Remaining: 0s, Rate: 3.6e+01/s\n"
     ]
    },
    {
     "name": "stderr",
     "output_type": "stream",
     "text": [
      "INFO:pencil:Building pencil matrix 12/16 (~75%) Elapsed: 0s, Remaining: 0s, Rate: 3.7e+01/s\n"
     ]
    },
    {
     "name": "stdout",
     "output_type": "stream",
     "text": [
      "2016-05-02 12:16:44,623 pencil 0/1 INFO :: Building pencil matrix 12/16 (~75%) Elapsed: 0s, Remaining: 0s, Rate: 3.7e+01/s\n"
     ]
    },
    {
     "name": "stderr",
     "output_type": "stream",
     "text": [
      "INFO:pencil:Building pencil matrix 14/16 (~88%) Elapsed: 0s, Remaining: 0s, Rate: 3.7e+01/s\n"
     ]
    },
    {
     "name": "stdout",
     "output_type": "stream",
     "text": [
      "2016-05-02 12:16:44,676 pencil 0/1 INFO :: Building pencil matrix 14/16 (~88%) Elapsed: 0s, Remaining: 0s, Rate: 3.7e+01/s\n"
     ]
    },
    {
     "name": "stderr",
     "output_type": "stream",
     "text": [
      "INFO:pencil:Building pencil matrix 16/16 (~100%) Elapsed: 0s, Remaining: 0s, Rate: 3.7e+01/s\n"
     ]
    },
    {
     "name": "stdout",
     "output_type": "stream",
     "text": [
      "2016-05-02 12:16:44,729 pencil 0/1 INFO :: Building pencil matrix 16/16 (~100%) Elapsed: 0s, Remaining: 0s, Rate: 3.7e+01/s\n"
     ]
    }
   ],
   "source": [
    "dt = max_dt = 1.\n",
    "omega1 = TC.parameters['v_l']/r_in\n",
    "period = 2*np.pi/omega1\n",
    "\n",
    "ts = de.timesteppers.RK443\n",
    "IVP = TC.build_solver(ts)\n",
    "IVP.stop_sim_time = 15.*period\n",
    "IVP.stop_wall_time = np.inf\n",
    "IVP.stop_iteration = 10000000"
   ]
  },
  {
   "cell_type": "markdown",
   "metadata": {},
   "source": [
    "We initialize the state vector, given by `IVP.state`. To make life a little easier, we set some aliases first:"
   ]
  },
  {
   "cell_type": "code",
   "execution_count": 11,
   "metadata": {
    "collapsed": false
   },
   "outputs": [],
   "source": [
    "p = IVP.state['p']\n",
    "u = IVP.state['u']\n",
    "v = IVP.state['v']\n",
    "w = IVP.state['w']\n",
    "ur = IVP.state['ur']\n",
    "vr = IVP.state['vr']\n",
    "wr = IVP.state['wr']"
   ]
  },
  {
   "cell_type": "markdown",
   "metadata": {},
   "source": [
    "Next, we create a new field, $\\phi$, defined on the `domain`, which we'll use below to compute incompressible, random velocity perturbations."
   ]
  },
  {
   "cell_type": "code",
   "execution_count": 12,
   "metadata": {
    "collapsed": false
   },
   "outputs": [],
   "source": [
    "phi = domain.new_field(name='phi')"
   ]
  },
  {
   "cell_type": "markdown",
   "metadata": {},
   "source": [
    "Here, we set all these to their dealiased domains. Dedalus allows you to set the \"scale\" of your data: this allows you to interpolate your data to a grid of any size at spectral accuracy. Of course, this isn't CSI: Fluid Dynamics, so you won't get any more detail than your highest spectral coefficient."
   ]
  },
  {
   "cell_type": "code",
   "execution_count": 13,
   "metadata": {
    "collapsed": false
   },
   "outputs": [],
   "source": [
    "for f in [phi,p,u,v,w,ur,vr,wr]:\n",
    "    f.set_scales(domain.dealias, keep_data=False)"
   ]
  },
  {
   "cell_type": "markdown",
   "metadata": {},
   "source": [
    "Now we set the state vector with our previously computed analytic solution, compute the first derivatives (to make our system first order)"
   ]
  },
  {
   "cell_type": "code",
   "execution_count": 14,
   "metadata": {
    "collapsed": false
   },
   "outputs": [
    {
     "data": {
      "text/plain": [
       "<Field 140545185430608>"
      ]
     },
     "execution_count": 14,
     "metadata": {},
     "output_type": "execute_result"
    }
   ],
   "source": [
    "v['g'] = v_analytic\n",
    "#p['g'] = p_analytic\n",
    "\n",
    "v.differentiate('r',out=vr)"
   ]
  },
  {
   "cell_type": "markdown",
   "metadata": {},
   "source": [
    "And finally, we set some small, incompressible perturbations to the velocity field so we can kick off our linear instability.\n",
    "\n",
    "First, we initialize $\\phi$ (which we created above) to Gaussian noise and then mask it to only appear in the center of the domain, so we don't violate the boundary conditions. We then take its curl to get the velocity perturbations.\n",
    "\n",
    "Unfortunately, Gaussian noise on the grid is generally a bad idea: zone-to-zone variations (that is, the highest frequency components) will be amplified arbitrarily by any differentiation. So, let's filter out those high frequency components using this handy little function:"
   ]
  },
  {
   "cell_type": "code",
   "execution_count": 15,
   "metadata": {
    "collapsed": true
   },
   "outputs": [],
   "source": [
    "def filter_field(field,frac=0.5):\n",
    "    dom = field.domain\n",
    "    local_slice = dom.dist.coeff_layout.slices(scales=dom.dealias)\n",
    "    coeff = []\n",
    "    for i in range(dom.dim)[::-1]:\n",
    "        coeff.append(np.linspace(0,1,dom.global_coeff_shape[i],endpoint=False))\n",
    "    cc = np.meshgrid(*coeff)\n",
    "    \n",
    "    field_filter = np.zeros(dom.local_coeff_shape,dtype='bool')\n",
    "    for i in range(dom.dim):\n",
    "        field_filter = field_filter | (cc[i][local_slice] > frac)\n",
    "    field['c'][field_filter] = 0j"
   ]
  },
  {
   "cell_type": "markdown",
   "metadata": {},
   "source": [
    "This is not the best filter: it assumes that cutting off above a certain Chebyshev mode $n$ and Fourier mode $n$ will be OK, though this may produce anisotropies in the data (I haven't checked). If you're worrying about the anisotropy of the initial noise of your ICs, you can always replace this filter with something better."
   ]
  },
  {
   "cell_type": "code",
   "execution_count": 16,
   "metadata": {
    "collapsed": false
   },
   "outputs": [
    {
     "data": {
      "text/plain": [
       "<Field 140545185431168>"
      ]
     },
     "execution_count": 16,
     "metadata": {},
     "output_type": "execute_result"
    }
   ],
   "source": [
    "# incompressible perturbation, arbitrary vorticity\n",
    "# u = -dz(phi)\n",
    "# w = dr(phi) + phi/r\n",
    "\n",
    "phi['g'] = 1e-3* np.random.randn(*v['g'].shape)*np.sin(np.pi*(r - r_in))\n",
    "filter_field(phi)\n",
    "phi.differentiate('z',out=u)\n",
    "u['g'] *= -1\n",
    "phi.differentiate('r',out=w)\n",
    "w['g'] += phi['g']/r\n",
    "\n",
    "u.differentiate('r',out=ur)\n",
    "w.differentiate('r',out=wr)"
   ]
  },
  {
   "cell_type": "markdown",
   "metadata": {},
   "source": [
    "Now we check that incompressibility is indeed satisfied, first by computing $\\nabla \\cdot u$,"
   ]
  },
  {
   "cell_type": "code",
   "execution_count": 17,
   "metadata": {
    "collapsed": false
   },
   "outputs": [],
   "source": [
    "divu0 = domain.new_field(name='divu0')\n",
    "u.differentiate('r',out=divu0)\n",
    "divu0['g'] += u['g']/r + w.differentiate('z')['g']"
   ]
  },
  {
   "cell_type": "markdown",
   "metadata": {},
   "source": [
    "and then by plotting it to make sure it's nowhere greater than $\\sim 10^{-15}$"
   ]
  },
  {
   "cell_type": "code",
   "execution_count": 18,
   "metadata": {
    "collapsed": false
   },
   "outputs": [
    {
     "data": {
      "text/plain": [
       "<matplotlib.text.Text at 0x7fd339d05cc0>"
      ]
     },
     "execution_count": 18,
     "metadata": {},
     "output_type": "execute_result"
    },
    {
     "data": {
      "image/png": "[encoded data removed]",
      "text/plain": [
       "<matplotlib.figure.Figure at 0x7fd339ce7a20>"
      ]
     },
     "metadata": {},
     "output_type": "display_data"
    }
   ],
   "source": [
    "figsize(12,8)\n",
    "pcolormesh((r[0]*ones_like(z)).T,(z*ones_like(r)).T,divu0['g'].T,cmap='PuOr')\n",
    "colorbar()\n",
    "axis('image')\n",
    "xlabel('r', fontsize=18)\n",
    "ylabel('z', fontsize=18)"
   ]
  },
  {
   "cell_type": "markdown",
   "metadata": {},
   "source": [
    "## Time step size and the CFL condition\n",
    "\n",
    "Here, we use the nice CFL calculator provided by the `flow_tools` package in the `extras` module."
   ]
  },
  {
   "cell_type": "code",
   "execution_count": 19,
   "metadata": {
    "collapsed": false
   },
   "outputs": [],
   "source": [
    "CFL = flow_tools.CFL(IVP, initial_dt=1e-3, cadence=5, safety=0.3,\n",
    "                     max_change=1.5, min_change=0.5)\n",
    "CFL.add_velocities(('u', 'w'))"
   ]
  },
  {
   "cell_type": "markdown",
   "metadata": {},
   "source": [
    "## Analysis\n",
    "\n",
    "Dedalus has a very powerful inline analysis system, and here we set up a few."
   ]
  },
  {
   "cell_type": "code",
   "execution_count": 20,
   "metadata": {
    "collapsed": false
   },
   "outputs": [],
   "source": [
    "# Integrated energy every 10 iterations\n",
    "analysis1 = IVP.evaluator.add_file_handler(\"scalar_data\", iter=10)\n",
    "analysis1.add_task(\"integ(0.5 * (u*u + v*v + w*w))\", name=\"total kinetic energy\")\n",
    "analysis1.add_task(\"integ(0.5 * (u*u + w*w))\", name=\"meridional kinetic energy\")\n",
    "analysis1.add_task(\"integ((u*u)**0.5)\", name='u_rms')\n",
    "analysis1.add_task(\"integ((w*w)**0.5)\", name='w_rms')\n",
    "\n",
    "# Snapshots every half an inner rotation period\n",
    "analysis2 = IVP.evaluator.add_file_handler('snapshots',sim_dt=0.5*period, max_size=2**30)\n",
    "analysis2.add_system(IVP.state, layout='g')\n",
    "\n",
    "# radial profiles every 100 timestpes\n",
    "analysis3 = IVP.evaluator.add_file_handler(\"radial_profiles\", iter=100)\n",
    "analysis3.add_task(\"integ(r*v, 'z')\", name='Angular Momentum')"
   ]
  },
  {
   "cell_type": "markdown",
   "metadata": {},
   "source": [
    "## The Main Loop\n",
    "And here we actually run the simulation!"
   ]
  },
  {
   "cell_type": "code",
   "execution_count": 21,
   "metadata": {
    "collapsed": false
   },
   "outputs": [
    {
     "name": "stderr",
     "output_type": "stream",
     "text": [
      "INFO:__main__:Iteration: 10, Time: 1.750000e-02, dt: 2.250000e-03\n"
     ]
    },
    {
     "name": "stdout",
     "output_type": "stream",
     "text": [
      "2016-05-02 12:16:45,983 __main__ 0/1 INFO :: Iteration: 10, Time: 1.750000e-02, dt: 2.250000e-03\n"
     ]
    },
    {
     "name": "stderr",
     "output_type": "stream",
     "text": [
      "INFO:__main__:Iteration: 20, Time: 5.687500e-02, dt: 5.062500e-03\n"
     ]
    },
    {
     "name": "stdout",
     "output_type": "stream",
     "text": [
      "2016-05-02 12:16:46,836 __main__ 0/1 INFO :: Iteration: 20, Time: 5.687500e-02, dt: 5.062500e-03\n"
     ]
    },
    {
     "name": "stderr",
     "output_type": "stream",
     "text": [
      "INFO:__main__:Iteration: 30, Time: 1.454687e-01, dt: 1.139063e-02\n"
     ]
    },
    {
     "name": "stdout",
     "output_type": "stream",
     "text": [
      "2016-05-02 12:16:47,690 __main__ 0/1 INFO :: Iteration: 30, Time: 1.454687e-01, dt: 1.139063e-02\n"
     ]
    },
    {
     "name": "stderr",
     "output_type": "stream",
     "text": [
      "INFO:__main__:Iteration: 40, Time: 3.448047e-01, dt: 2.562891e-02\n"
     ]
    },
    {
     "name": "stdout",
     "output_type": "stream",
     "text": [
      "2016-05-02 12:16:48,553 __main__ 0/1 INFO :: Iteration: 40, Time: 3.448047e-01, dt: 2.562891e-02\n"
     ]
    },
    {
     "name": "stderr",
     "output_type": "stream",
     "text": [
      "INFO:__main__:Iteration: 50, Time: 7.933105e-01, dt: 5.766504e-02\n"
     ]
    },
    {
     "name": "stdout",
     "output_type": "stream",
     "text": [
      "2016-05-02 12:16:49,356 __main__ 0/1 INFO :: Iteration: 50, Time: 7.933105e-01, dt: 5.766504e-02\n"
     ]
    },
    {
     "name": "stderr",
     "output_type": "stream",
     "text": [
      "INFO:__main__:Iteration: 60, Time: 1.802449e+00, dt: 1.297463e-01\n"
     ]
    },
    {
     "name": "stdout",
     "output_type": "stream",
     "text": [
      "2016-05-02 12:16:50,150 __main__ 0/1 INFO :: Iteration: 60, Time: 1.802449e+00, dt: 1.297463e-01\n"
     ]
    },
    {
     "name": "stderr",
     "output_type": "stream",
     "text": [
      "INFO:__main__:Iteration: 70, Time: 4.073010e+00, dt: 2.919293e-01\n"
     ]
    },
    {
     "name": "stdout",
     "output_type": "stream",
     "text": [
      "2016-05-02 12:16:50,941 __main__ 0/1 INFO :: Iteration: 70, Time: 4.073010e+00, dt: 2.919293e-01\n"
     ]
    },
    {
     "name": "stderr",
     "output_type": "stream",
     "text": [
      "INFO:__main__:Iteration: 80, Time: 9.181772e+00, dt: 6.568408e-01\n"
     ]
    },
    {
     "name": "stdout",
     "output_type": "stream",
     "text": [
      "2016-05-02 12:16:51,731 __main__ 0/1 INFO :: Iteration: 80, Time: 9.181772e+00, dt: 6.568408e-01\n"
     ]
    },
    {
     "name": "stderr",
     "output_type": "stream",
     "text": [
      "INFO:__main__:Iteration: 90, Time: 2.067649e+01, dt: 1.477892e+00\n"
     ]
    },
    {
     "name": "stdout",
     "output_type": "stream",
     "text": [
      "2016-05-02 12:16:52,508 __main__ 0/1 INFO :: Iteration: 90, Time: 2.067649e+01, dt: 1.477892e+00\n"
     ]
    },
    {
     "name": "stderr",
     "output_type": "stream",
     "text": [
      "INFO:__main__:Iteration: 100, Time: 4.653959e+01, dt: 3.325257e+00\n"
     ]
    },
    {
     "name": "stdout",
     "output_type": "stream",
     "text": [
      "2016-05-02 12:16:53,320 __main__ 0/1 INFO :: Iteration: 100, Time: 4.653959e+01, dt: 3.325257e+00\n"
     ]
    },
    {
     "name": "stderr",
     "output_type": "stream",
     "text": [
      "INFO:__main__:Iteration: 110, Time: 1.047316e+02, dt: 7.481828e+00\n"
     ]
    },
    {
     "name": "stdout",
     "output_type": "stream",
     "text": [
      "2016-05-02 12:16:54,142 __main__ 0/1 INFO :: Iteration: 110, Time: 1.047316e+02, dt: 7.481828e+00\n"
     ]
    },
    {
     "name": "stderr",
     "output_type": "stream",
     "text": [
      "INFO:solvers:Simulation stop time reached.\n"
     ]
    },
    {
     "name": "stdout",
     "output_type": "stream",
     "text": [
      "2016-05-02 12:16:54,907 solvers 0/1 INFO :: Simulation stop time reached.\n"
     ]
    },
    {
     "name": "stderr",
     "output_type": "stream",
     "text": [
      "INFO:__main__:Total time: 9.767014\n"
     ]
    },
    {
     "name": "stdout",
     "output_type": "stream",
     "text": [
      "2016-05-02 12:16:54,908 __main__ 0/1 INFO :: Total time: 9.767014\n"
     ]
    },
    {
     "name": "stderr",
     "output_type": "stream",
     "text": [
      "INFO:__main__:Iterations: 119\n"
     ]
    },
    {
     "name": "stdout",
     "output_type": "stream",
     "text": [
      "2016-05-02 12:16:54,909 __main__ 0/1 INFO :: Iterations: 119\n"
     ]
    },
    {
     "name": "stderr",
     "output_type": "stream",
     "text": [
      "INFO:__main__:Average timestep: 1.838903\n"
     ]
    },
    {
     "name": "stdout",
     "output_type": "stream",
     "text": [
      "2016-05-02 12:16:54,910 __main__ 0/1 INFO :: Average timestep: 1.838903\n"
     ]
    }
   ],
   "source": [
    "dt = CFL.compute_dt()\n",
    "# Main loop\n",
    "start_time = time.time()\n",
    "\n",
    "while IVP.ok:\n",
    "    IVP.step(dt)\n",
    "    if IVP.iteration % 10 == 0:\n",
    "        logger.info('Iteration: %i, Time: %e, dt: %e' %(IVP.iteration, IVP.sim_time, dt))\n",
    "    dt = CFL.compute_dt()\n",
    "\n",
    "\n",
    "end_time = time.time()\n",
    "\n",
    "# Print statistics\n",
    "logger.info('Total time: %f' %(end_time-start_time))\n",
    "logger.info('Iterations: %i' %IVP.iteration)\n",
    "logger.info('Average timestep: %f' %(IVP.sim_time/IVP.iteration))"
   ]
  },
  {
   "cell_type": "markdown",
   "metadata": {},
   "source": [
    "## Analysis\n",
    "\n",
    "First, let's look at our last time snapshot, plotting the background $v \\mathbf{\\hat{\\theta}}$ velocity with arrows representing the meridional flow:"
   ]
  },
  {
   "cell_type": "code",
   "execution_count": 22,
   "metadata": {
    "collapsed": false
   },
   "outputs": [
    {
     "data": {
      "text/plain": [
       "<matplotlib.text.Text at 0x7fd3335ea3c8>"
      ]
     },
     "execution_count": 22,
     "metadata": {},
     "output_type": "execute_result"
    },
    {
     "data": {
      "image/png": "[encoded data removed]",
      "text/plain": [
       "<matplotlib.figure.Figure at 0x7fd33361dc18>"
      ]
     },
     "metadata": {},
     "output_type": "display_data"
    }
   ],
   "source": [
    "figsize(12,8)\n",
    "pcolormesh((r[0]*ones_like(z)).T,(z*ones_like(r)).T,v['g'].T,cmap='PuOr')\n",
    "quiver((r[0]*ones_like(z)).T,(z*ones_like(r)).T,u['g'].T,w['g'].T,width=0.005)\n",
    "axis('image')\n",
    "xlabel('r', fontsize=18)\n",
    "ylabel('z', fontsize=18)"
   ]
  },
  {
   "cell_type": "markdown",
   "metadata": {},
   "source": [
    "But we really want some quantitative comparison with the growth rate $\\gamma_{analytic}$ from Barenghi (1991). First we construct a small helper function to read our timeseries data, and then we load it out of the self-documented HDF5 file"
   ]
  },
  {
   "cell_type": "code",
   "execution_count": 23,
   "metadata": {
    "collapsed": false
   },
   "outputs": [],
   "source": [
    "def get_timeseries(data, field):\n",
    "    data_1d = []\n",
    "    time = data['scales/sim_time'][:]\n",
    "    data_out = data['tasks/%s'%field][:,0,0]\n",
    "    return time, data_out"
   ]
  },
  {
   "cell_type": "code",
   "execution_count": 24,
   "metadata": {
    "collapsed": false
   },
   "outputs": [],
   "source": [
    "data = h5py.File(\"scalar_data/scalar_data_s1/scalar_data_s1_p0.h5\", \"r\")\n",
    "t, ke = get_timeseries(data, 'total kinetic energy')\n",
    "t, kem = get_timeseries(data, 'meridional kinetic energy')\n",
    "t, urms = get_timeseries(data, 'u_rms')\n",
    "t, wrms = get_timeseries(data, 'w_rms')"
   ]
  },
  {
   "cell_type": "markdown",
   "metadata": {},
   "source": [
    "In order to compare to Barenghi (1991), we scale our results by the Reynolds number, because we have non-dimensionalized slightly differently than he did. "
   ]
  },
  {
   "cell_type": "code",
   "execution_count": 25,
   "metadata": {
    "collapsed": false
   },
   "outputs": [
    {
     "name": "stdout",
     "output_type": "stream",
     "text": [
      "gamma_w = 0.37198093\n",
      "relative error = 1.35146694e-01\n"
     ]
    }
   ],
   "source": [
    "t_window = (t/period > 2) & (t/period < 14)\n",
    "\n",
    "gamma_w, log_w0 = np.polyfit(t[t_window], np.log(wrms[t_window]),1)\n",
    "\n",
    "gamma_w_scaled = gamma_w*Re\n",
    "gamma_barenghi = 0.430108693\n",
    "rel_error_barenghi = (gamma_barenghi - gamma_w_scaled)/gamma_barenghi\n",
    "\n",
    "print(\"gamma_w = %10.8f\" % gamma_w_scaled)\n",
    "print(\"relative error = %10.8e\" % rel_error_barenghi)"
   ]
  },
  {
   "cell_type": "markdown",
   "metadata": {},
   "source": [
    "This looks like a rather high error (order 10% or so), but we know from Barenghi (1991) that the error is dominated by the timestep. Here, we've used a very loose timestep, but if you fix dt (rather than using the CFL calculator), you can get much lower errors at the cost of a longer run.\n",
    "\n",
    "Finally, we plot the RMS $w$ velocity, and compare it with the fitted exponential solution"
   ]
  },
  {
   "cell_type": "code",
   "execution_count": 26,
   "metadata": {
    "collapsed": false
   },
   "outputs": [
    {
     "data": {
      "image/png": "[encoded data removed]",
      "text/plain": [
       "<matplotlib.figure.Figure at 0x7fd33360a1d0>"
      ]
     },
     "metadata": {},
     "output_type": "display_data"
    }
   ],
   "source": [
    "fig = figure()\n",
    "ax = fig.add_subplot(111)\n",
    "ax.semilogy(t/period, wrms, 'ko', label=r'$w_{rms}$',ms=10)\n",
    "ax.semilogy(t/period, np.exp(log_w0)*np.exp(gamma_w*t), 'k-.', label='$\\gamma_w = %f$' % gamma_w)\n",
    "ax.legend(loc='upper right',fontsize=18).draw_frame(False)\n",
    "ax.set_xlabel(r\"$t/t_{ic}$\",fontsize=18)\n",
    "ax.set_ylabel(r\"$w_{rms}$\",fontsize=18)\n",
    "\n",
    "fig.savefig('growth_rates.png')"
   ]
  },
  {
   "cell_type": "code",
   "execution_count": null,
   "metadata": {
    "collapsed": false
   },
   "outputs": [],
   "source": []
  }
 ],
 "metadata": {
  "kernelspec": {
   "display_name": "Python 3",
   "language": "python",
   "name": "python3"
  },
  "language_info": {
   "codemirror_mode": {
    "name": "ipython",
    "version": 3
   },
   "file_extension": ".py",
   "mimetype": "text/x-python",
   "name": "python",
   "nbconvert_exporter": "python",
   "pygments_lexer": "ipython3",
   "version": "3.4.1"
  }
 },
 "nbformat": 4,
 "nbformat_minor": 0
}
